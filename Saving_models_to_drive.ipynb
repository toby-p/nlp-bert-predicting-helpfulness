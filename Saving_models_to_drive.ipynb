{
  "cells": [
    {
      "cell_type": "markdown",
      "metadata": {
        "id": "view-in-github",
        "colab_type": "text"
      },
      "source": [
        "<a href=\"https://colab.research.google.com/github/toby-p/w266-final-project/blob/main/Saving_models_to_drive.ipynb\" target=\"_parent\"><img src=\"https://colab.research.google.com/assets/colab-badge.svg\" alt=\"Open In Colab\"/></a>"
      ]
    },
    {
      "cell_type": "markdown",
      "metadata": {
        "id": "pZJ3uY9O17VN"
      },
      "source": [
        "# Saving models to drive\n",
        "\n",
        "Adapted from [this notebook](https://colab.research.google.com/github/tensorflow/docs/blob/master/site/en/tutorials/keras/save_and_load.ipynb), along with [this tutorial on saving to Google Drive](https://medium.com/@ml_kid/how-to-save-our-model-to-google-drive-and-reuse-it-2c1028058cb2).\n"
      ]
    },
    {
      "cell_type": "markdown",
      "metadata": {
        "id": "xCUREq7WXgvg"
      },
      "source": [
        "## Setup\n",
        "\n",
        "### Installs and imports"
      ]
    },
    {
      "cell_type": "markdown",
      "metadata": {
        "id": "7l0MiTOrXtNv"
      },
      "source": [
        "Install and import TensorFlow and dependencies:"
      ]
    },
    {
      "cell_type": "code",
      "execution_count": null,
      "metadata": {
        "id": "RzIOVSdnMYyO"
      },
      "outputs": [],
      "source": [
        "# !pip install pyyaml h5py  # Required to save models in HDF5 format"
      ]
    },
    {
      "cell_type": "code",
      "execution_count": null,
      "metadata": {
        "id": "7Nm7Tyb-gRt-",
        "colab": {
          "base_uri": "https://localhost:8080/",
          "height": 91
        },
        "outputId": "b52b9c05-e729-46ef-aca0-615a63dea90f"
      },
      "outputs": [
        {
          "output_type": "stream",
          "name": "stdout",
          "text": [
            "Drive already mounted at /content/gdrive; to attempt to forcibly remount, call drive.mount(\"/content/gdrive\", force_remount=True).\n",
            "Created checkpoint dir: /content/gdrive/MyDrive/models/test_model/checkpoints/2022_07_17__20_20_39\n"
          ]
        },
        {
          "output_type": "execute_result",
          "data": {
            "text/plain": [
              "'/content/gdrive/MyDrive/models/test_model/checkpoints/2022_07_17__20_20_39'"
            ],
            "application/vnd.google.colaboratory.intrinsic+json": {
              "type": "string"
            }
          },
          "metadata": {},
          "execution_count": 2
        }
      ],
      "source": [
        "import datetime\n",
        "import os\n",
        "\n",
        "from google.colab import drive\n",
        "import tensorflow as tf\n",
        "from tensorflow import keras\n",
        "\n",
        "# Mount Google Drive:\n",
        "drive.mount(\"/content/gdrive\")\n",
        "\n",
        "# Directory where models will be stored in GDrive:\n",
        "MODEL_DIR = \"/content/gdrive/MyDrive/models\"\n",
        "\n",
        "# Make the directories for storing results if they don't exist yet:\n",
        "if not os.path.exists(MODEL_DIR):\n",
        "    os.mkdir(MODEL_DIR)\n",
        "\n",
        "\n",
        "def gdrive_save_dir(*subdir: str, model_name: str = \"test_model\"): \n",
        "    \"\"\"Create timestamped directory in GDrive for storing checkpoints or models.\n",
        "    \n",
        "    Args:\n",
        "        subdir: optional subdirectories of the main model directory\n",
        "            (e.g. `checkpoints`, `final_model`, etc.)\n",
        "        model_name: main name for directory specifying the model being saved.\n",
        "    \"\"\"\n",
        "    model_dir = f\"{MODEL_DIR}/{model_name}\"\n",
        "    if not os.path.exists(model_dir):\n",
        "        os.mkdir(model_dir)\n",
        "    for s in subdir:\n",
        "        model_dir = f\"{model_dir}/{s}\"\n",
        "        if not os.path.exists(model_dir):\n",
        "            os.mkdir(model_dir)\n",
        "    now = datetime.datetime.now()\n",
        "    now_str = now.strftime(\"%Y_%m_%d__%H_%M_%S\")\n",
        "    dir_path = f\"{model_dir}/{now_str}\"\n",
        "    os.mkdir(dir_path)\n",
        "    print(f\"Created checkpoint dir: {dir_path}\")\n",
        "    return dir_path\n",
        "\n",
        "\n",
        "gdrive_save_dir(\"checkpoints\", model_name = \"test_model\")"
      ]
    },
    {
      "cell_type": "markdown",
      "metadata": {
        "id": "SbGsznErXWt6"
      },
      "source": [
        "### Get an example dataset\n",
        "\n",
        "To demonstrate how to save and load weights, you'll use the [MNIST dataset](http://yann.lecun.com/exdb/mnist/). To speed up these runs, use the first 1000 examples:"
      ]
    },
    {
      "cell_type": "code",
      "execution_count": null,
      "metadata": {
        "id": "9rGfFwE9XVwz"
      },
      "outputs": [],
      "source": [
        "(train_images, train_labels), (test_images, test_labels) = tf.keras.datasets.mnist.load_data()\n",
        "\n",
        "train_labels = train_labels[:1000]\n",
        "test_labels = test_labels[:1000]\n",
        "\n",
        "train_images = train_images[:1000].reshape(-1, 28 * 28) / 255.0\n",
        "test_images = test_images[:1000].reshape(-1, 28 * 28) / 255.0"
      ]
    },
    {
      "cell_type": "markdown",
      "metadata": {
        "id": "anG3iVoXyZGI"
      },
      "source": [
        "### Define a model"
      ]
    },
    {
      "cell_type": "markdown",
      "metadata": {
        "id": "wynsOBfby0Pa"
      },
      "source": [
        "Start by building a simple sequential model:"
      ]
    },
    {
      "cell_type": "code",
      "execution_count": null,
      "metadata": {
        "id": "0HZbJIjxyX1S",
        "colab": {
          "base_uri": "https://localhost:8080/"
        },
        "outputId": "cff615a4-f5e0-4b88-f00a-f5fa63bd03ab"
      },
      "outputs": [
        {
          "output_type": "stream",
          "name": "stdout",
          "text": [
            "Model: \"sequential\"\n",
            "_________________________________________________________________\n",
            " Layer (type)                Output Shape              Param #   \n",
            "=================================================================\n",
            " dense (Dense)               (None, 512)               401920    \n",
            "                                                                 \n",
            " dropout (Dropout)           (None, 512)               0         \n",
            "                                                                 \n",
            " dense_1 (Dense)             (None, 10)                5130      \n",
            "                                                                 \n",
            "=================================================================\n",
            "Total params: 407,050\n",
            "Trainable params: 407,050\n",
            "Non-trainable params: 0\n",
            "_________________________________________________________________\n"
          ]
        }
      ],
      "source": [
        "# Define a simple sequential model\n",
        "def create_model():\n",
        "  model = tf.keras.Sequential([\n",
        "    keras.layers.Dense(512, activation='relu', input_shape=(784,)),\n",
        "    keras.layers.Dropout(0.2),\n",
        "    keras.layers.Dense(10)\n",
        "  ])\n",
        "\n",
        "  model.compile(optimizer='adam',\n",
        "                loss=tf.keras.losses.SparseCategoricalCrossentropy(from_logits=True),\n",
        "                metrics=[tf.keras.metrics.SparseCategoricalAccuracy()])\n",
        "\n",
        "  return model\n",
        "\n",
        "# Create a basic model instance\n",
        "model = create_model()\n",
        "\n",
        "# Display the model's architecture\n",
        "model.summary()"
      ]
    },
    {
      "cell_type": "markdown",
      "metadata": {
        "id": "soDE0W_KH8rG"
      },
      "source": [
        "## Save checkpoints during training"
      ]
    },
    {
      "cell_type": "markdown",
      "metadata": {
        "id": "mRyd5qQQIXZm"
      },
      "source": [
        "You can use a trained model without having to retrain it, or pick-up training where you left off in case the training process was interrupted. The `tf.keras.callbacks.ModelCheckpoint` callback allows you to continually save the model both *during* and at *the end* of training.\n",
        "\n",
        "### Checkpoint callback usage\n",
        "\n",
        "Create a `tf.keras.callbacks.ModelCheckpoint` callback that saves weights only during training:"
      ]
    },
    {
      "cell_type": "code",
      "execution_count": null,
      "metadata": {
        "id": "IFPuhwntH8VH",
        "colab": {
          "base_uri": "https://localhost:8080/"
        },
        "outputId": "6d591191-0f7f-4fd5-8988-3fba2fcd3d45"
      },
      "outputs": [
        {
          "output_type": "stream",
          "name": "stdout",
          "text": [
            "Created checkpoint dir: /content/gdrive/MyDrive/models/test_model/checkpoints/2022_07_17__20_20_41\n",
            "Epoch 1/10\n",
            "20/32 [=================>............] - ETA: 0s - loss: 1.3779 - sparse_categorical_accuracy: 0.6203 \n",
            "Epoch 1: saving model to /content/gdrive/MyDrive/models/test_model/checkpoints/2022_07_17__20_20_41/cp.ckpt\n",
            "32/32 [==============================] - 1s 11ms/step - loss: 1.1311 - sparse_categorical_accuracy: 0.6810 - val_loss: 0.7109 - val_sparse_categorical_accuracy: 0.7660\n",
            "Epoch 2/10\n",
            "22/32 [===================>..........] - ETA: 0s - loss: 0.4469 - sparse_categorical_accuracy: 0.8793\n",
            "Epoch 2: saving model to /content/gdrive/MyDrive/models/test_model/checkpoints/2022_07_17__20_20_41/cp.ckpt\n",
            "32/32 [==============================] - 0s 7ms/step - loss: 0.4206 - sparse_categorical_accuracy: 0.8840 - val_loss: 0.5175 - val_sparse_categorical_accuracy: 0.8330\n",
            "Epoch 3/10\n",
            "23/32 [====================>.........] - ETA: 0s - loss: 0.2983 - sparse_categorical_accuracy: 0.9198\n",
            "Epoch 3: saving model to /content/gdrive/MyDrive/models/test_model/checkpoints/2022_07_17__20_20_41/cp.ckpt\n",
            "32/32 [==============================] - 0s 8ms/step - loss: 0.2907 - sparse_categorical_accuracy: 0.9260 - val_loss: 0.4594 - val_sparse_categorical_accuracy: 0.8450\n",
            "Epoch 4/10\n",
            "22/32 [===================>..........] - ETA: 0s - loss: 0.2246 - sparse_categorical_accuracy: 0.9418\n",
            "Epoch 4: saving model to /content/gdrive/MyDrive/models/test_model/checkpoints/2022_07_17__20_20_41/cp.ckpt\n",
            "32/32 [==============================] - 0s 7ms/step - loss: 0.2087 - sparse_categorical_accuracy: 0.9480 - val_loss: 0.4514 - val_sparse_categorical_accuracy: 0.8500\n",
            "Epoch 5/10\n",
            "22/32 [===================>..........] - ETA: 0s - loss: 0.1487 - sparse_categorical_accuracy: 0.9702\n",
            "Epoch 5: saving model to /content/gdrive/MyDrive/models/test_model/checkpoints/2022_07_17__20_20_41/cp.ckpt\n",
            "32/32 [==============================] - 0s 7ms/step - loss: 0.1526 - sparse_categorical_accuracy: 0.9700 - val_loss: 0.4097 - val_sparse_categorical_accuracy: 0.8670\n",
            "Epoch 6/10\n",
            "23/32 [====================>.........] - ETA: 0s - loss: 0.1126 - sparse_categorical_accuracy: 0.9837\n",
            "Epoch 6: saving model to /content/gdrive/MyDrive/models/test_model/checkpoints/2022_07_17__20_20_41/cp.ckpt\n",
            "32/32 [==============================] - 0s 7ms/step - loss: 0.1110 - sparse_categorical_accuracy: 0.9830 - val_loss: 0.4202 - val_sparse_categorical_accuracy: 0.8610\n",
            "Epoch 7/10\n",
            "23/32 [====================>.........] - ETA: 0s - loss: 0.0896 - sparse_categorical_accuracy: 0.9851\n",
            "Epoch 7: saving model to /content/gdrive/MyDrive/models/test_model/checkpoints/2022_07_17__20_20_41/cp.ckpt\n",
            "32/32 [==============================] - 0s 6ms/step - loss: 0.0873 - sparse_categorical_accuracy: 0.9850 - val_loss: 0.4069 - val_sparse_categorical_accuracy: 0.8640\n",
            "Epoch 8/10\n",
            "21/32 [==================>...........] - ETA: 0s - loss: 0.0715 - sparse_categorical_accuracy: 0.9851\n",
            "Epoch 8: saving model to /content/gdrive/MyDrive/models/test_model/checkpoints/2022_07_17__20_20_41/cp.ckpt\n",
            "32/32 [==============================] - 0s 7ms/step - loss: 0.0794 - sparse_categorical_accuracy: 0.9830 - val_loss: 0.4416 - val_sparse_categorical_accuracy: 0.8480\n",
            "Epoch 9/10\n",
            "22/32 [===================>..........] - ETA: 0s - loss: 0.0557 - sparse_categorical_accuracy: 0.9957\n",
            "Epoch 9: saving model to /content/gdrive/MyDrive/models/test_model/checkpoints/2022_07_17__20_20_41/cp.ckpt\n",
            "32/32 [==============================] - 0s 7ms/step - loss: 0.0525 - sparse_categorical_accuracy: 0.9970 - val_loss: 0.4101 - val_sparse_categorical_accuracy: 0.8690\n",
            "Epoch 10/10\n",
            "21/32 [==================>...........] - ETA: 0s - loss: 0.0377 - sparse_categorical_accuracy: 0.9970\n",
            "Epoch 10: saving model to /content/gdrive/MyDrive/models/test_model/checkpoints/2022_07_17__20_20_41/cp.ckpt\n",
            "32/32 [==============================] - 0s 7ms/step - loss: 0.0376 - sparse_categorical_accuracy: 0.9970 - val_loss: 0.4308 - val_sparse_categorical_accuracy: 0.8660\n"
          ]
        },
        {
          "output_type": "execute_result",
          "data": {
            "text/plain": [
              "<keras.callbacks.History at 0x7f7fc03c8050>"
            ]
          },
          "metadata": {},
          "execution_count": 5
        }
      ],
      "source": [
        "checkpoint_dir = gdrive_save_dir(\"checkpoints\", model_name = \"test_model\")\n",
        "checkpoint_path = f\"{checkpoint_dir}/cp.ckpt\"\n",
        "\n",
        "# Create a callback that saves the model's weights\n",
        "cp_callback = tf.keras.callbacks.ModelCheckpoint(filepath=checkpoint_path,\n",
        "                                                 save_weights_only=True,\n",
        "                                                 verbose=1)\n",
        "\n",
        "# Train the model with the new callback\n",
        "model.fit(train_images, \n",
        "          train_labels,  \n",
        "          epochs=10,\n",
        "          validation_data=(test_images, test_labels),\n",
        "          callbacks=[cp_callback])  # Pass callback to training\n",
        "\n",
        "# This may generate warnings related to saving the state of the optimizer.\n",
        "# These warnings (and similar warnings throughout this notebook)\n",
        "# are in place to discourage outdated usage, and can be ignored."
      ]
    },
    {
      "cell_type": "markdown",
      "metadata": {
        "id": "rlM-sgyJO084"
      },
      "source": [
        "This creates a single collection of TensorFlow checkpoint files that are updated at the end of each epoch:"
      ]
    },
    {
      "cell_type": "code",
      "execution_count": null,
      "metadata": {
        "id": "gXG5FVKFOVQ3",
        "colab": {
          "base_uri": "https://localhost:8080/"
        },
        "outputId": "96e80e81-ab44-4d1d-b3e5-7376173a19ba"
      },
      "outputs": [
        {
          "output_type": "execute_result",
          "data": {
            "text/plain": [
              "['cp.ckpt.index', 'cp.ckpt.data-00000-of-00001', 'checkpoint']"
            ]
          },
          "metadata": {},
          "execution_count": 6
        }
      ],
      "source": [
        "os.listdir(checkpoint_dir)"
      ]
    },
    {
      "cell_type": "markdown",
      "metadata": {
        "id": "wlRN_f56Pqa9"
      },
      "source": [
        "As long as two models share the same architecture you can share weights between them. So, when restoring a model from weights-only, create a model with the same architecture as the original model and then set its weights. \n",
        "\n",
        "Now rebuild a fresh, untrained model and evaluate it on the test set. An untrained model will perform at chance levels (~10% accuracy):"
      ]
    },
    {
      "cell_type": "code",
      "execution_count": null,
      "metadata": {
        "id": "Fp5gbuiaPqCT",
        "colab": {
          "base_uri": "https://localhost:8080/"
        },
        "outputId": "f1ab6648-7122-41e7-fe84-9b9adc97210f"
      },
      "outputs": [
        {
          "output_type": "stream",
          "name": "stdout",
          "text": [
            "32/32 - 0s - loss: 2.4060 - sparse_categorical_accuracy: 0.0940 - 204ms/epoch - 6ms/step\n",
            "Untrained model, accuracy:  9.40%\n"
          ]
        }
      ],
      "source": [
        "# Create a basic model instance\n",
        "model = create_model()\n",
        "\n",
        "# Evaluate the model\n",
        "loss, acc = model.evaluate(test_images, test_labels, verbose=2)\n",
        "print(\"Untrained model, accuracy: {:5.2f}%\".format(100 * acc))"
      ]
    },
    {
      "cell_type": "markdown",
      "metadata": {
        "id": "1DTKpZssRSo3"
      },
      "source": [
        "Then load the weights from the checkpoint and re-evaluate:"
      ]
    },
    {
      "cell_type": "code",
      "execution_count": null,
      "metadata": {
        "id": "2IZxbwiRRSD2",
        "colab": {
          "base_uri": "https://localhost:8080/"
        },
        "outputId": "4992c5fa-6334-4eea-ed66-c9a95cd0a66e"
      },
      "outputs": [
        {
          "output_type": "stream",
          "name": "stdout",
          "text": [
            "32/32 - 0s - loss: 0.4308 - sparse_categorical_accuracy: 0.8660 - 119ms/epoch - 4ms/step\n",
            "Restored model, accuracy: 86.60%\n"
          ]
        }
      ],
      "source": [
        "# Loads the weights\n",
        "model.load_weights(checkpoint_path)\n",
        "\n",
        "# Re-evaluate the model\n",
        "loss, acc = model.evaluate(test_images, test_labels, verbose=2)\n",
        "print(\"Restored model, accuracy: {:5.2f}%\".format(100 * acc))"
      ]
    },
    {
      "cell_type": "markdown",
      "metadata": {
        "id": "bpAbKkAyVPV8"
      },
      "source": [
        "### Checkpoint callback options\n",
        "\n",
        "The callback provides several options to provide unique names for checkpoints and adjust the checkpointing frequency.\n",
        "\n",
        "Train a new model, and save uniquely named checkpoints once every five epochs:"
      ]
    },
    {
      "cell_type": "code",
      "execution_count": null,
      "metadata": {
        "id": "mQF_dlgIVOvq",
        "colab": {
          "base_uri": "https://localhost:8080/"
        },
        "outputId": "ca42ee32-07ed-41ef-eb99-582787ad1687"
      },
      "outputs": [
        {
          "output_type": "stream",
          "name": "stdout",
          "text": [
            "Created checkpoint dir: /content/gdrive/MyDrive/models/test_model/checkpoints/2022_07_17__20_20_44\n",
            "WARNING:tensorflow:Detecting that an object or model or tf.train.Checkpoint is being deleted with unrestored values. See the following logs for the specific values in question. To silence these warnings, use `status.expect_partial()`. See https://www.tensorflow.org/api_docs/python/tf/train/Checkpoint#restorefor details about the status object returned by the restore function.\n",
            "WARNING:tensorflow:Value in checkpoint could not be found in the restored object: (root).optimizer.iter\n",
            "WARNING:tensorflow:Value in checkpoint could not be found in the restored object: (root).optimizer.beta_1\n",
            "WARNING:tensorflow:Value in checkpoint could not be found in the restored object: (root).optimizer.beta_2\n",
            "WARNING:tensorflow:Value in checkpoint could not be found in the restored object: (root).optimizer.decay\n",
            "WARNING:tensorflow:Value in checkpoint could not be found in the restored object: (root).optimizer.learning_rate\n",
            "\n",
            "Epoch 5: saving model to /content/gdrive/MyDrive/models/test_model/checkpoints/2022_07_17__20_20_44/cp-0005.ckpt\n",
            "\n",
            "Epoch 10: saving model to /content/gdrive/MyDrive/models/test_model/checkpoints/2022_07_17__20_20_44/cp-0010.ckpt\n",
            "\n",
            "Epoch 15: saving model to /content/gdrive/MyDrive/models/test_model/checkpoints/2022_07_17__20_20_44/cp-0015.ckpt\n",
            "\n",
            "Epoch 20: saving model to /content/gdrive/MyDrive/models/test_model/checkpoints/2022_07_17__20_20_44/cp-0020.ckpt\n",
            "\n",
            "Epoch 25: saving model to /content/gdrive/MyDrive/models/test_model/checkpoints/2022_07_17__20_20_44/cp-0025.ckpt\n",
            "\n",
            "Epoch 30: saving model to /content/gdrive/MyDrive/models/test_model/checkpoints/2022_07_17__20_20_44/cp-0030.ckpt\n",
            "\n",
            "Epoch 35: saving model to /content/gdrive/MyDrive/models/test_model/checkpoints/2022_07_17__20_20_44/cp-0035.ckpt\n",
            "\n",
            "Epoch 40: saving model to /content/gdrive/MyDrive/models/test_model/checkpoints/2022_07_17__20_20_44/cp-0040.ckpt\n",
            "\n",
            "Epoch 45: saving model to /content/gdrive/MyDrive/models/test_model/checkpoints/2022_07_17__20_20_44/cp-0045.ckpt\n",
            "\n",
            "Epoch 50: saving model to /content/gdrive/MyDrive/models/test_model/checkpoints/2022_07_17__20_20_44/cp-0050.ckpt\n"
          ]
        },
        {
          "output_type": "execute_result",
          "data": {
            "text/plain": [
              "<keras.callbacks.History at 0x7f7fc00843d0>"
            ]
          },
          "metadata": {},
          "execution_count": 9
        }
      ],
      "source": [
        "# Include the epoch in the file name (uses `str.format`)\n",
        "checkpoint_dir = gdrive_save_dir(\"checkpoints\", model_name = \"test_model\")\n",
        "checkpoint_path = checkpoint_dir + \"/cp-{epoch:04d}.ckpt\"\n",
        "\n",
        "batch_size = 32\n",
        "\n",
        "# Create a callback that saves the model's weights every 5 epochs\n",
        "cp_callback = tf.keras.callbacks.ModelCheckpoint(\n",
        "    filepath=checkpoint_path, \n",
        "    verbose=1, \n",
        "    save_weights_only=True,\n",
        "    save_freq=5*batch_size)\n",
        "\n",
        "# Create a new model instance\n",
        "model = create_model()\n",
        "\n",
        "# Save the weights using the `checkpoint_path` format\n",
        "model.save_weights(checkpoint_path.format(epoch=0))\n",
        "\n",
        "# Train the model with the new callback\n",
        "model.fit(train_images, \n",
        "          train_labels,\n",
        "          epochs=50, \n",
        "          batch_size=batch_size, \n",
        "          callbacks=[cp_callback],\n",
        "          validation_data=(test_images, test_labels),\n",
        "          verbose=0)"
      ]
    },
    {
      "cell_type": "markdown",
      "metadata": {
        "id": "1zFrKTjjavWI"
      },
      "source": [
        "Now, review the resulting checkpoints and choose the latest one:"
      ]
    },
    {
      "cell_type": "code",
      "execution_count": null,
      "metadata": {
        "id": "p64q3-V4sXt0",
        "colab": {
          "base_uri": "https://localhost:8080/"
        },
        "outputId": "1e1dd497-19b1-4007-9103-2a1091a724c4"
      },
      "outputs": [
        {
          "output_type": "execute_result",
          "data": {
            "text/plain": [
              "['cp-0000.ckpt.data-00000-of-00001',\n",
              " 'cp-0000.ckpt.index',\n",
              " 'cp-0005.ckpt.data-00000-of-00001',\n",
              " 'cp-0005.ckpt.index',\n",
              " 'cp-0010.ckpt.data-00000-of-00001',\n",
              " 'cp-0010.ckpt.index',\n",
              " 'cp-0015.ckpt.data-00000-of-00001',\n",
              " 'cp-0015.ckpt.index',\n",
              " 'cp-0020.ckpt.data-00000-of-00001',\n",
              " 'cp-0020.ckpt.index',\n",
              " 'cp-0025.ckpt.data-00000-of-00001',\n",
              " 'cp-0025.ckpt.index',\n",
              " 'cp-0030.ckpt.data-00000-of-00001',\n",
              " 'cp-0030.ckpt.index',\n",
              " 'cp-0035.ckpt.data-00000-of-00001',\n",
              " 'cp-0035.ckpt.index',\n",
              " 'cp-0040.ckpt.data-00000-of-00001',\n",
              " 'cp-0040.ckpt.index',\n",
              " 'cp-0045.ckpt.data-00000-of-00001',\n",
              " 'cp-0045.ckpt.index',\n",
              " 'cp-0050.ckpt.data-00000-of-00001',\n",
              " 'cp-0050.ckpt.index',\n",
              " 'checkpoint']"
            ]
          },
          "metadata": {},
          "execution_count": 10
        }
      ],
      "source": [
        "os.listdir(checkpoint_dir)"
      ]
    },
    {
      "cell_type": "code",
      "execution_count": null,
      "metadata": {
        "id": "1AN_fnuyR41H",
        "colab": {
          "base_uri": "https://localhost:8080/",
          "height": 35
        },
        "outputId": "db160c6d-9fa7-4fad-c755-ef13b8d058e1"
      },
      "outputs": [
        {
          "output_type": "execute_result",
          "data": {
            "text/plain": [
              "'/content/gdrive/MyDrive/models/test_model/checkpoints/2022_07_17__20_20_44/cp-0050.ckpt'"
            ],
            "application/vnd.google.colaboratory.intrinsic+json": {
              "type": "string"
            }
          },
          "metadata": {},
          "execution_count": 11
        }
      ],
      "source": [
        "latest = tf.train.latest_checkpoint(checkpoint_dir)\n",
        "latest"
      ]
    },
    {
      "cell_type": "markdown",
      "metadata": {
        "id": "Zk2ciGbKg561"
      },
      "source": [
        "Note: The default TensorFlow format only saves the 5 most recent checkpoints.\n",
        "\n",
        "To test, reset the model, and load the latest checkpoint:"
      ]
    },
    {
      "cell_type": "code",
      "execution_count": null,
      "metadata": {
        "id": "3M04jyK-H3QK",
        "colab": {
          "base_uri": "https://localhost:8080/"
        },
        "outputId": "466f0575-0bdc-4013-ceb5-9adb2008c67b"
      },
      "outputs": [
        {
          "output_type": "stream",
          "name": "stdout",
          "text": [
            "32/32 - 0s - loss: 0.4774 - sparse_categorical_accuracy: 0.8760 - 163ms/epoch - 5ms/step\n",
            "Restored model, accuracy: 87.60%\n"
          ]
        }
      ],
      "source": [
        "# Create a new model instance\n",
        "model = create_model()\n",
        "\n",
        "# Load the previously saved weights\n",
        "model.load_weights(latest)\n",
        "\n",
        "# Re-evaluate the model\n",
        "loss, acc = model.evaluate(test_images, test_labels, verbose=2)\n",
        "print(\"Restored model, accuracy: {:5.2f}%\".format(100 * acc))"
      ]
    },
    {
      "cell_type": "markdown",
      "metadata": {
        "id": "c2OxsJOTHxia"
      },
      "source": [
        "## What are these files?"
      ]
    },
    {
      "cell_type": "markdown",
      "metadata": {
        "id": "JtdYhvWnH2ib"
      },
      "source": [
        "The above code stores the weights to a collection of [checkpoint](../../guide/checkpoint.ipynb)-formatted files that contain only the trained weights in a binary format. Checkpoints contain:\n",
        "* One or more shards that contain your model's weights.\n",
        "* An index file that indicates which weights are stored in which shard.\n",
        "\n",
        "If you are training a model on a single machine, you'll have one shard with the suffix: `.data-00000-of-00001`"
      ]
    },
    {
      "cell_type": "markdown",
      "metadata": {
        "id": "S_FA-ZvxuXQV"
      },
      "source": [
        "## Manually save weights\n",
        "\n",
        "To save weights manually, use `tf.keras.Model.save_weights`. By default, `tf.keras`—and the `Model.save_weights` method in particular—uses the TensorFlow [Checkpoint](../../guide/checkpoint.ipynb) format with a `.ckpt` extension. To save in the HDF5 format with a `.h5` extension, refer to the [Save and load models](https://www.tensorflow.org/guide/keras/save_and_serialize) guide."
      ]
    },
    {
      "cell_type": "code",
      "execution_count": null,
      "metadata": {
        "id": "R7W5plyZ-u9X",
        "colab": {
          "base_uri": "https://localhost:8080/"
        },
        "outputId": "97f472e9-63b0-4d53-d177-8b89f864bdc0"
      },
      "outputs": [
        {
          "output_type": "stream",
          "name": "stdout",
          "text": [
            "Created checkpoint dir: /content/gdrive/MyDrive/models/test_model/checkpoints/2022_07_17__20_20_53\n",
            "32/32 - 0s - loss: 0.4774 - sparse_categorical_accuracy: 0.8760 - 154ms/epoch - 5ms/step\n",
            "Restored model, accuracy: 87.60%\n"
          ]
        }
      ],
      "source": [
        "checkpoint_dir = gdrive_save_dir(\"checkpoints\", model_name = \"test_model\")\n",
        "\n",
        "# Save the weights\n",
        "model.save_weights(f'{checkpoint_dir}/my_checkpoint')\n",
        "\n",
        "# Create a new model instance\n",
        "model = create_model()\n",
        "\n",
        "# Restore the weights\n",
        "model.load_weights(f'{checkpoint_dir}/my_checkpoint')\n",
        "\n",
        "# Evaluate the model\n",
        "loss, acc = model.evaluate(test_images, test_labels, verbose=2)\n",
        "print(\"Restored model, accuracy: {:5.2f}%\".format(100 * acc))"
      ]
    },
    {
      "cell_type": "markdown",
      "metadata": {
        "id": "kOGlxPRBEvV1"
      },
      "source": [
        "## Save the entire model\n",
        "\n",
        "Call `tf.keras.Model.save` to save a model's architecture, weights, and training configuration in a single `file/folder`. This allows you to export a model so it can be used without access to the original Python code*. Since the optimizer-state is recovered, you can resume training from exactly where you left off.\n",
        "\n",
        "An entire model can be saved in two different file formats (`SavedModel` and `HDF5`). The TensorFlow `SavedModel` format is the default file format in TF2.x. However, models can be saved in `HDF5` format. More details on saving entire models in the two file formats is described below.\n",
        "\n",
        "Saving a fully-functional model is very useful—you can load them in TensorFlow.js ([Saved Model](https://www.tensorflow.org/js/tutorials/conversion/import_saved_model), [HDF5](https://www.tensorflow.org/js/tutorials/conversion/import_keras)) and then train and run them in web browsers, or convert them to run on mobile devices using TensorFlow Lite ([Saved Model](https://www.tensorflow.org/lite/models/convert/#convert_a_savedmodel_recommended_), [HDF5](https://www.tensorflow.org/lite/models/convert/#convert_a_keras_model_))\n",
        "\n",
        "\\*Custom objects (for example, subclassed models or layers) require special attention when saving and loading. Refer to the **Saving custom objects** section below."
      ]
    },
    {
      "cell_type": "markdown",
      "metadata": {
        "id": "kPyhgcoVzqUB"
      },
      "source": [
        "### SavedModel format"
      ]
    },
    {
      "cell_type": "markdown",
      "metadata": {
        "id": "LtcN4VIb7JkK"
      },
      "source": [
        "The SavedModel format is another way to serialize models. Models saved in this format can be restored using `tf.keras.models.load_model` and are compatible with TensorFlow Serving. The [SavedModel guide](../../guide/saved_model.ipynb) goes into detail about how to `serve/inspect` the SavedModel. The section below illustrates the steps to save and restore the model."
      ]
    },
    {
      "cell_type": "code",
      "execution_count": null,
      "metadata": {
        "id": "sI1YvCDFzpl3",
        "colab": {
          "base_uri": "https://localhost:8080/"
        },
        "outputId": "51289e6c-7df5-4b83-f2e6-7bdb1b271c60"
      },
      "outputs": [
        {
          "output_type": "stream",
          "name": "stdout",
          "text": [
            "Created checkpoint dir: /content/gdrive/MyDrive/models/test_model/full_model/2022_07_17__20_20_54\n",
            "WARNING:tensorflow:Detecting that an object or model or tf.train.Checkpoint is being deleted with unrestored values. See the following logs for the specific values in question. To silence these warnings, use `status.expect_partial()`. See https://www.tensorflow.org/api_docs/python/tf/train/Checkpoint#restorefor details about the status object returned by the restore function.\n",
            "WARNING:tensorflow:Value in checkpoint could not be found in the restored object: (root).optimizer.iter\n",
            "WARNING:tensorflow:Value in checkpoint could not be found in the restored object: (root).optimizer.beta_1\n",
            "WARNING:tensorflow:Value in checkpoint could not be found in the restored object: (root).optimizer.beta_2\n",
            "WARNING:tensorflow:Value in checkpoint could not be found in the restored object: (root).optimizer.decay\n",
            "WARNING:tensorflow:Value in checkpoint could not be found in the restored object: (root).optimizer.learning_rate\n",
            "Epoch 1/5\n",
            "32/32 [==============================] - 0s 2ms/step - loss: 1.1708 - sparse_categorical_accuracy: 0.6590\n",
            "Epoch 2/5\n",
            "32/32 [==============================] - 0s 3ms/step - loss: 0.4204 - sparse_categorical_accuracy: 0.8840\n",
            "Epoch 3/5\n",
            "32/32 [==============================] - 0s 2ms/step - loss: 0.2913 - sparse_categorical_accuracy: 0.9330\n",
            "Epoch 4/5\n",
            "32/32 [==============================] - 0s 2ms/step - loss: 0.2050 - sparse_categorical_accuracy: 0.9510\n",
            "Epoch 5/5\n",
            "32/32 [==============================] - 0s 2ms/step - loss: 0.1632 - sparse_categorical_accuracy: 0.9640\n",
            "INFO:tensorflow:Assets written to: /content/gdrive/MyDrive/models/test_model/full_model/2022_07_17__20_20_54/assets\n"
          ]
        }
      ],
      "source": [
        "model_dir = gdrive_save_dir(\"full_model\", model_name = \"test_model\")\n",
        "\n",
        "# Create and train a new model instance.\n",
        "model = create_model()\n",
        "model.fit(train_images, train_labels, epochs=5)\n",
        "\n",
        "# Save the entire model as a SavedModel.\n",
        "model.save(model_dir) "
      ]
    },
    {
      "cell_type": "markdown",
      "metadata": {
        "id": "iUvT_3qE8hV5"
      },
      "source": [
        "The SavedModel format is a directory containing a protobuf binary and a TensorFlow checkpoint. Inspect the saved model directory:"
      ]
    },
    {
      "cell_type": "code",
      "execution_count": null,
      "metadata": {
        "id": "sq8fPglI1RWA",
        "colab": {
          "base_uri": "https://localhost:8080/"
        },
        "outputId": "ff602fe0-3190-4b4e-e62a-fc401fdeb6aa"
      },
      "outputs": [
        {
          "output_type": "execute_result",
          "data": {
            "text/plain": [
              "['variables', 'assets', 'saved_model.pb', 'keras_metadata.pb']"
            ]
          },
          "metadata": {},
          "execution_count": 15
        }
      ],
      "source": [
        "os.listdir(model_dir)"
      ]
    },
    {
      "cell_type": "markdown",
      "metadata": {
        "id": "B7qfpvpY9HCe"
      },
      "source": [
        "Reload a fresh Keras model from the saved model:"
      ]
    },
    {
      "cell_type": "code",
      "execution_count": null,
      "metadata": {
        "id": "0YofwHdN0pxa",
        "colab": {
          "base_uri": "https://localhost:8080/"
        },
        "outputId": "82178e78-483b-4bdf-8e1c-86360cd238b4"
      },
      "outputs": [
        {
          "output_type": "stream",
          "name": "stdout",
          "text": [
            "Model: \"sequential_5\"\n",
            "_________________________________________________________________\n",
            " Layer (type)                Output Shape              Param #   \n",
            "=================================================================\n",
            " dense_10 (Dense)            (None, 512)               401920    \n",
            "                                                                 \n",
            " dropout_5 (Dropout)         (None, 512)               0         \n",
            "                                                                 \n",
            " dense_11 (Dense)            (None, 10)                5130      \n",
            "                                                                 \n",
            "=================================================================\n",
            "Total params: 407,050\n",
            "Trainable params: 407,050\n",
            "Non-trainable params: 0\n",
            "_________________________________________________________________\n"
          ]
        }
      ],
      "source": [
        "new_model = tf.keras.models.load_model(model_dir)\n",
        "\n",
        "# Check its architecture\n",
        "new_model.summary()"
      ]
    },
    {
      "cell_type": "markdown",
      "metadata": {
        "id": "uWwgNaz19TH2"
      },
      "source": [
        "The restored model is compiled with the same arguments as the original model. Try running evaluate and predict with the loaded model:"
      ]
    },
    {
      "cell_type": "code",
      "execution_count": null,
      "metadata": {
        "id": "Yh5Mu0yOgE5J",
        "colab": {
          "base_uri": "https://localhost:8080/"
        },
        "outputId": "9119eafe-644d-4946-8ab7-a479cf2a6caf"
      },
      "outputs": [
        {
          "output_type": "stream",
          "name": "stdout",
          "text": [
            "32/32 - 0s - loss: 0.4392 - sparse_categorical_accuracy: 0.8600 - 160ms/epoch - 5ms/step\n",
            "Restored model, accuracy: 86.00%\n",
            "(1000, 10)\n"
          ]
        }
      ],
      "source": [
        "# Evaluate the restored model\n",
        "loss, acc = new_model.evaluate(test_images, test_labels, verbose=2)\n",
        "print('Restored model, accuracy: {:5.2f}%'.format(100 * acc))\n",
        "\n",
        "print(new_model.predict(test_images).shape)"
      ]
    },
    {
      "cell_type": "code",
      "source": [
        ""
      ],
      "metadata": {
        "id": "1pY-JzkN0Mj4"
      },
      "execution_count": null,
      "outputs": []
    }
  ],
  "metadata": {
    "accelerator": "GPU",
    "colab": {
      "collapsed_sections": [],
      "name": "Saving models to drive.ipynb",
      "provenance": [],
      "include_colab_link": true
    },
    "kernelspec": {
      "display_name": "Python 3",
      "name": "python3"
    }
  },
  "nbformat": 4,
  "nbformat_minor": 0
}