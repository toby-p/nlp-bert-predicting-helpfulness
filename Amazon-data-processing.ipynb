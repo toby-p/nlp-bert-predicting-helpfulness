{
 "cells": [
  {
   "cell_type": "markdown",
   "id": "a2ee45a1",
   "metadata": {},
   "source": [
    "### Amazon data processing\n",
    "\n",
    "Using this link to get data: http://jmcauley.ucsd.edu/data/amazon/\n",
    "\n",
    "Downloaded the file from the section labeled _\"Small\" subsets for experimentation\"_ with the title  \"Books\t5-core (8,898,041 reviews)\"\n",
    "\n",
    "The file is saved in the data directory, but not tracked in Github repository due to filesize limitations. The downloaded file name is `reviews_Books_5.json.gz`."
   ]
  },
  {
   "cell_type": "code",
   "execution_count": null,
   "id": "47e75343",
   "metadata": {},
   "outputs": [],
   "source": [
    "\n",
    "import gzip\n",
    "import os\n",
    "import shutil\n",
    "\n",
    "\n",
    "zip_fp = os.path.join(os.getcwd(), \"data\", \"reviews_Books_5.json.gz\")\n",
    "with gzip.open(zip_fp, \"rb\") as f_in:\n",
    "    with open(\"reviews_Books_5.json\", \"wb\") as f_out:\n",
    "        shutil.copyfileobj(f_in, f_out)"
   ]
  },
  {
   "cell_type": "code",
   "execution_count": null,
   "id": "1e1c1478",
   "metadata": {},
   "outputs": [],
   "source": []
  }
 ],
 "metadata": {
  "kernelspec": {
   "display_name": "Python 3 (ipykernel)",
   "language": "python",
   "name": "python3"
  },
  "language_info": {
   "codemirror_mode": {
    "name": "ipython",
    "version": 3
   },
   "file_extension": ".py",
   "mimetype": "text/x-python",
   "name": "python",
   "nbconvert_exporter": "python",
   "pygments_lexer": "ipython3",
   "version": "3.9.2"
  }
 },
 "nbformat": 4,
 "nbformat_minor": 5
}
