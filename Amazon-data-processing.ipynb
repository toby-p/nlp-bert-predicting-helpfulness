{
 "cells": [
  {
   "cell_type": "markdown",
   "id": "a2ee45a1",
   "metadata": {},
   "source": [
    "### Amazon product review data processing\n",
    "\n",
    "We use this website to get data: http://jmcauley.ucsd.edu/data/amazon/\n",
    "\n",
    "Given that we want to test the power of transfer learning with the idea that it could prove useful to pretrain networks on review categories with lots of data to improve prediction performance on categories with less data, we choose the Amazon product category with the largest amount of data - books.\n",
    "\n",
    "We download the file from the section labeled _\"Small\" subsets for experimentation_ with the title  _Books\t5-core (8,898,041 reviews)_.\n",
    "\n",
    "The file is saved in the data directory, but not tracked in this Github repository due to filesize limitations. The downloaded file name is `reviews_Books_5.json.gz`. It can be downloaded to the correct location from here with the following command:"
   ]
  },
  {
   "cell_type": "code",
   "execution_count": null,
   "id": "7021abdb-61c4-41d6-b195-b229f7667993",
   "metadata": {},
   "outputs": [],
   "source": [
    "!wget http://snap.stanford.edu/data/amazon/productGraph/categoryFiles/reviews_Books_5.json.gz -P ./data"
   ]
  },
  {
   "cell_type": "code",
   "execution_count": 1,
   "id": "3c00b719-5e99-4bbc-bb6e-6ad4730b5adb",
   "metadata": {},
   "outputs": [],
   "source": [
    "\n",
    "import gzip\n",
    "import json\n",
    "import numpy as np\n",
    "import os\n",
    "import pandas as pd\n",
    "import random\n",
    "from sklearn.model_selection import train_test_split\n",
    "import shutil\n",
    "import time\n",
    "\n",
    "\n",
    "# These are the filepaths of the raw zip download and the unzipped JSON:\n",
    "zip_fp = os.path.join(os.getcwd(), \"data\", \"reviews_Books_5.json.gz\")\n",
    "out_fp = os.path.join(os.getcwd(), \"data\", \"reviews_Books_5.json\")"
   ]
  },
  {
   "cell_type": "markdown",
   "id": "50bc3ad1-060c-43da-80af-422dad115511",
   "metadata": {},
   "source": [
    "The following code extracts the zipfile:"
   ]
  },
  {
   "cell_type": "code",
   "execution_count": null,
   "id": "47e75343",
   "metadata": {},
   "outputs": [],
   "source": [
    "with gzip.open(zip_fp, \"rb\") as f_in:\n",
    "    with open(out_fp, \"wb\") as f_out:\n",
    "        shutil.copyfileobj(f_in, f_out)"
   ]
  },
  {
   "cell_type": "markdown",
   "id": "667e821d-87e5-4179-92e2-122dfb6309dd",
   "metadata": {},
   "source": [
    "We know that there are almost 9m records, therefore trying to load the whole file into memory may cause out-of-memory errors. Since we don't need the whole file, only < 100k records, we iterate through the whole file and randomly select approximately 5% of eligible records for a sample, which will then be loaded into memory to randomly select the final data sample for training, test, and validation. We save part files every 50,000 records so the list doesn't get too large and slow things down.\n",
    "\n",
    "For eligibility, as per the Bilal paper, we discard reviews with 1, 2, or 3 helpful ratings, leaving only those with 0 helpful ratings (to be classified as \"unhelpful\") and those with 4 or more helpful ratings (to be classified as \"helpful\").\n",
    "\n",
    "We also found a very small number of bad data issues where the number of helpful reviews was greater than the total number of reviews, so these are also discarded."
   ]
  },
  {
   "cell_type": "code",
   "execution_count": 2,
   "id": "c2806cbd-3429-4b0c-88cd-3b04cde16ec8",
   "metadata": {},
   "outputs": [
    {
     "name": "stdout",
     "output_type": "stream",
     "text": [
      "Selected 304,496 records of 8,898,040 (6,079,233 eligible) in 494.4 seconds\r"
     ]
    }
   ],
   "source": [
    "with open(out_fp, \"r\") as f:\n",
    "    \n",
    "    # Initialize counters:\n",
    "    t1 = time.time()\n",
    "    sample_data = list()\n",
    "    selected, saved = 0, False\n",
    "    part = 1\n",
    "    eligible = 0\n",
    "    \n",
    "    # Iterate through all reviews:\n",
    "    for i, line in enumerate(f):\n",
    "\n",
    "        # Print progress update:\n",
    "        if not i % 1000:\n",
    "            elapsed = f\"{time.time() - t1:,.1f}\"\n",
    "            print(f\"Selected {selected:,.0f} records of {i:,.0f} \"\n",
    "                  f\"({eligible:,.0f} eligible) \"\n",
    "                  f\"in {elapsed} seconds\", end=\"\\r\")\n",
    "\n",
    "        # As per the paper if the review contains 1/2/3 helpful votes, we\n",
    "        # discard it from consideration:\n",
    "        data = eval(line)\n",
    "        helpful_num, helpful_denom = data[\"helpful\"]\n",
    "        discard = helpful_num >= 1 and helpful_num <= 3\n",
    "        bad_data = helpful_num > helpful_denom\n",
    "        if discard or bad_data:\n",
    "            continue\n",
    "        eligible += 1\n",
    "\n",
    "        # Randomly select 5% of records:\n",
    "        if random.randint(1, 100) <= 5:  \n",
    "            selected += 1\n",
    "            sample_data.append(data)\n",
    "            saved = False\n",
    "        else:\n",
    "            continue        \n",
    "            \n",
    "        # Save the part file:\n",
    "        if (not selected % 50_000) and (selected != 0) and (not saved):\n",
    "            pt = f\"{part:.0f}\".zfill(3)\n",
    "            part_name = f\"SAMPLE_pt{pt}_reviews_Books_5.json\"\n",
    "            part_fp = os.path.join(os.getcwd(), \"data\", part_name)\n",
    "            with open(part_fp, \"w\") as part_f:\n",
    "                json.dump(sample_data, part_f)\n",
    "            part += 1\n",
    "            sample_data = list()\n",
    "            saved = True\n",
    "\n",
    "# Save the last part:\n",
    "if len(sample_data):\n",
    "    pt = f\"{part:.0f}\".zfill(3)\n",
    "    part_name = f\"SAMPLE_pt{pt}_reviews_Books_5.json\"\n",
    "    part_fp = os.path.join(os.getcwd(), \"data\", part_name)\n",
    "    with open(part_fp, \"w\") as part_f:\n",
    "        json.dump(sample_data, part_f)\n",
    "\n",
    "# Print final status:\n",
    "elapsed = f\"{time.time() - t1:,.1f}\"\n",
    "print(f\"Selected {selected:,.0f} records of {i:,.0f} \"\n",
    "      f\"({eligible:,.0f} eligible) \"\n",
    "      f\"in {elapsed} seconds\", end=\"\\r\")"
   ]
  },
  {
   "cell_type": "markdown",
   "id": "2d86413b-a457-464c-87e4-74686672c5d2",
   "metadata": {},
   "source": [
    "Now we load the full sample into a single pandas DataFrame to do some EDA."
   ]
  },
  {
   "cell_type": "code",
   "execution_count": 3,
   "id": "1c2c38e7-2195-43bf-a8fe-470a0bbb7ccb",
   "metadata": {},
   "outputs": [
    {
     "data": {
      "text/plain": [
       "unhelpful    0.769531\n",
       "helpful      0.230469\n",
       "Name: helpful_category, dtype: float64"
      ]
     },
     "execution_count": 3,
     "metadata": {},
     "output_type": "execute_result"
    }
   ],
   "source": [
    "df = pd.DataFrame()\n",
    "\n",
    "files = [f for f in os.listdir(os.path.join(os.getcwd(), \"data\")) if \"SAMPLE_pt\" in f]\n",
    "for part_name in files:\n",
    "    part_fp = os.path.join(os.getcwd(), \"data\", part_name)\n",
    "    with open(part_fp, \"r\") as part_file:\n",
    "        part_data = json.load(part_file)\n",
    "        part_df = pd.DataFrame(part_data)\n",
    "        df = df.append(part_df).reset_index(drop=True)\n",
    "        \n",
    "# Separate out the helpful numerator and denominator:\n",
    "df[\"helpful_numerator\"] = [h[0] for h in df[\"helpful\"]]\n",
    "df[\"helpful_denominator\"] = [h[1] for h in df[\"helpful\"]]\n",
    "\n",
    "# Add the classification of helpful/unhelpful and check the distribution:\n",
    "df[\"helpful_category\"] = np.where(df[\"helpful_numerator\"] == 0, \"unhelpful\", \"helpful\")\n",
    "df[\"helpful_category\"].value_counts(normalize=True)"
   ]
  },
  {
   "cell_type": "code",
   "execution_count": 4,
   "id": "f6a67e18-8945-4d8a-b31d-49422685566b",
   "metadata": {},
   "outputs": [
    {
     "data": {
      "text/plain": [
       "helpful_numerator      1117912\n",
       "helpful_denominator    1479265\n",
       "dtype: int64"
      ]
     },
     "execution_count": 4,
     "metadata": {},
     "output_type": "execute_result"
    }
   ],
   "source": [
    "# Overall counts of helpful votes (numerator) and total votes (denominator):\n",
    "df[[\"helpful_numerator\", \"helpful_denominator\"]].sum()"
   ]
  },
  {
   "cell_type": "code",
   "execution_count": 5,
   "id": "82c2f77b-b1ac-44df-bb9e-9b61b3d399ac",
   "metadata": {},
   "outputs": [
    {
     "data": {
      "text/plain": [
       "0.7557212534603334"
      ]
     },
     "execution_count": 5,
     "metadata": {},
     "output_type": "execute_result"
    }
   ],
   "source": [
    "# Overall helpfulness ratio:\n",
    "df[\"helpful_numerator\"].sum() / df[\"helpful_denominator\"].sum()"
   ]
  },
  {
   "cell_type": "code",
   "execution_count": 6,
   "id": "50fcb169-b852-4dfb-9b77-a398858baf69",
   "metadata": {},
   "outputs": [
    {
     "data": {
      "text/plain": [
       "<AxesSubplot:ylabel='Frequency'>"
      ]
     },
     "execution_count": 6,
     "metadata": {},
     "output_type": "execute_result"
    },
    {
     "data": {
      "image/png": "[encoded data removed]",
      "text/plain": [
       "<Figure size 432x288 with 1 Axes>"
      ]
     },
     "metadata": {
      "needs_background": "light"
     },
     "output_type": "display_data"
    }
   ],
   "source": [
    "# Distribution of numerator:\n",
    "df[\"helpful_numerator\"].plot.hist(bins=100)"
   ]
  },
  {
   "cell_type": "code",
   "execution_count": 7,
   "id": "5d3f40ce-99a8-4684-8ef3-6acf3023776a",
   "metadata": {},
   "outputs": [
    {
     "data": {
      "text/plain": [
       "<AxesSubplot:ylabel='Frequency'>"
      ]
     },
     "execution_count": 7,
     "metadata": {},
     "output_type": "execute_result"
    },
    {
     "data": {
      "image/png": "[encoded data removed]",
      "text/plain": [
       "<Figure size 432x288 with 1 Axes>"
      ]
     },
     "metadata": {
      "needs_background": "light"
     },
     "output_type": "display_data"
    }
   ],
   "source": [
    "# Distribution of denominator:\n",
    "df[\"helpful_denominator\"].plot.hist(bins=100)"
   ]
  },
  {
   "cell_type": "code",
   "execution_count": 8,
   "id": "bee57681-f92b-4c8a-a419-aca5cc1518b5",
   "metadata": {},
   "outputs": [
    {
     "data": {
      "text/plain": [
       "<AxesSubplot:ylabel='Frequency'>"
      ]
     },
     "execution_count": 8,
     "metadata": {},
     "output_type": "execute_result"
    },
    {
     "data": {
      "image/png": "[encoded data removed]",
      "text/plain": [
       "<Figure size 432x288 with 1 Axes>"
      ]
     },
     "metadata": {
      "needs_background": "light"
     },
     "output_type": "display_data"
    }
   ],
   "source": [
    "df[\"helpful_ratio\"] = df[\"helpful_numerator\"] / df[\"helpful_denominator\"]\n",
    "df[\"helpful_ratio\"].plot.hist(bins=100)"
   ]
  },
  {
   "cell_type": "code",
   "execution_count": 9,
   "id": "1d429d51-9ccd-4913-95e4-4d5b794cac31",
   "metadata": {},
   "outputs": [
    {
     "data": {
      "text/plain": [
       "63666"
      ]
     },
     "execution_count": 9,
     "metadata": {},
     "output_type": "execute_result"
    }
   ],
   "source": [
    "len(df[df[\"helpful_ratio\"] > 0.5])"
   ]
  },
  {
   "cell_type": "code",
   "execution_count": 10,
   "id": "c08fadb7-8b3a-4803-a655-b94b71abfbc3",
   "metadata": {},
   "outputs": [
    {
     "data": {
      "text/plain": [
       "unhelpful    234319\n",
       "helpful       70177\n",
       "Name: helpful_category, dtype: int64"
      ]
     },
     "execution_count": 10,
     "metadata": {},
     "output_type": "execute_result"
    }
   ],
   "source": [
    "df[\"helpful_category\"].value_counts()"
   ]
  },
  {
   "cell_type": "markdown",
   "id": "5edbf9a0-73b8-458a-b192-1a6dec91fbb8",
   "metadata": {},
   "source": [
    "## Create train and test data\n",
    "\n",
    "We have a big class imbalance in our dataset, we'll correct this by doing some undersampling on the negative class."
   ]
  },
  {
   "cell_type": "code",
   "execution_count": 22,
   "id": "e335992a-c28d-4df6-af5d-05322a8321e7",
   "metadata": {},
   "outputs": [
    {
     "data": {
      "text/plain": [
       "0.5"
      ]
     },
     "execution_count": 22,
     "metadata": {},
     "output_type": "execute_result"
    }
   ],
   "source": [
    "# Find out how many postive labels we have:\n",
    "positive_samples = df[(df[\"helpful_category\"] == \"helpful\")]\n",
    "n_positive_samples = positive_samples.shape[0]\n",
    "\n",
    "# Sample from negative class so we have the same amount:\n",
    "negative_samples = df[(df[\"helpful_category\"] == \"unhelpful\")].sample(n=n_positive_samples)\n",
    "\n",
    "balanced_df = positive_samples.append(negative_samples)\n",
    "\n",
    "# Add the label in binary form:\n",
    "balanced_df[\"label\"] = balanced_df[\"helpful_category\"].map({\"unhelpful\": 0, \"helpful\": 1})\n",
    "\n",
    "# Save just the X-y columns of the full balanced dataset:\n",
    "fp = os.path.join(os.getcwd(), \"data\", \"full_balanced.csv\")\n",
    "balanced_df[[\"reviewText\", \"label\"]].to_csv(fp, encoding=\"utf-8\", index=False)\n",
    "\n",
    "# Check balance:\n",
    "balanced_df[\"label\"].mean()"
   ]
  },
  {
   "cell_type": "markdown",
   "id": "06013242-e4eb-4080-9533-b7dc09b1fd3d",
   "metadata": {},
   "source": [
    "Next we trim down to a similar number of reviews as the yelp dataset."
   ]
  },
  {
   "cell_type": "code",
   "execution_count": 12,
   "id": "2feef47b-d192-4601-bca9-c8891865916b",
   "metadata": {},
   "outputs": [
    {
     "data": {
      "text/plain": [
       "0.5008"
      ]
     },
     "execution_count": 12,
     "metadata": {},
     "output_type": "execute_result"
    }
   ],
   "source": [
    "sampled_df = balanced_df.sample(n=60_000)\n",
    "\n",
    "# Check label balance of final sampled dataset:\n",
    "sampled_df[\"label\"].mean()"
   ]
  },
  {
   "cell_type": "markdown",
   "id": "968972e9-69ae-43f1-82a4-06987e4231f0",
   "metadata": {},
   "source": [
    "Finally we randomly split into train (80% of records) and test and validation (10% each)."
   ]
  },
  {
   "cell_type": "code",
   "execution_count": 13,
   "id": "4431e86c-7a7d-483d-b937-c590bfcacf5e",
   "metadata": {},
   "outputs": [
    {
     "name": "stdout",
     "output_type": "stream",
     "text": [
      "Train:  48000\n",
      "Valid:  6000\n",
      "Test:   6000\n"
     ]
    }
   ],
   "source": [
    "indices = list(sampled_df.index)\n",
    "random.shuffle(indices)\n",
    "\n",
    "train_size = int(len(sampled_df) * 0.8)\n",
    "train_ix = indices[:train_size]\n",
    "test_val_size = int(len(sampled_df) * 0.1)\n",
    "val_ix = indices[train_size:train_size+test_val_size]\n",
    "test_ix = indices[train_size+test_val_size:]\n",
    "\n",
    "train = sampled_df.loc[train_ix]\n",
    "val = sampled_df.loc[val_ix]\n",
    "test = sampled_df.loc[test_ix]\n",
    "\n",
    "print(f\"Train:  {len(train)}\")\n",
    "print(f\"Valid:  {len(val)}\")\n",
    "print(f\"Test:   {len(test)}\")"
   ]
  },
  {
   "cell_type": "markdown",
   "id": "c3bcce30-468d-41a9-a04f-b2ef9c08d434",
   "metadata": {},
   "source": [
    "A final balance check on the data splits:"
   ]
  },
  {
   "cell_type": "code",
   "execution_count": 14,
   "id": "aa6cdd78-8fa5-43bd-9b9d-64abc9e03b94",
   "metadata": {},
   "outputs": [
    {
     "data": {
      "text/plain": [
       "0.5010208333333334"
      ]
     },
     "execution_count": 14,
     "metadata": {},
     "output_type": "execute_result"
    }
   ],
   "source": [
    "train[\"label\"].mean()"
   ]
  },
  {
   "cell_type": "code",
   "execution_count": 15,
   "id": "a2d4ed5e-88b3-4536-a90f-65708b224426",
   "metadata": {},
   "outputs": [
    {
     "data": {
      "text/plain": [
       "0.49866666666666665"
      ]
     },
     "execution_count": 15,
     "metadata": {},
     "output_type": "execute_result"
    }
   ],
   "source": [
    "val[\"label\"].mean()"
   ]
  },
  {
   "cell_type": "code",
   "execution_count": 16,
   "id": "c57f49cd-3d6a-4cb7-9320-9701f3d8c72c",
   "metadata": {},
   "outputs": [
    {
     "data": {
      "text/plain": [
       "0.5011666666666666"
      ]
     },
     "execution_count": 16,
     "metadata": {},
     "output_type": "execute_result"
    }
   ],
   "source": [
    "test[\"label\"].mean()"
   ]
  },
  {
   "cell_type": "markdown",
   "id": "150bc003-22e5-4ebf-9729-b4d4222dbcf4",
   "metadata": {},
   "source": [
    "And save the final datasets:"
   ]
  },
  {
   "cell_type": "code",
   "execution_count": 17,
   "id": "6041ac7f-4e5a-416f-8f10-c1cc088adb95",
   "metadata": {},
   "outputs": [],
   "source": [
    "fp = os.path.join(os.getcwd(), \"data\", \"train.csv\")\n",
    "train.to_csv(fp, encoding=\"utf-8\", index=False)\n",
    "fp = os.path.join(os.getcwd(), \"data\", \"val.csv\")\n",
    "val.to_csv(fp, encoding=\"utf-8\", index=False)\n",
    "fp = os.path.join(os.getcwd(), \"data\", \"test.csv\")\n",
    "test.to_csv(fp, encoding=\"utf-8\", index=False)"
   ]
  }
 ],
 "metadata": {
  "kernelspec": {
   "display_name": "Python 3 (ipykernel)",
   "language": "python",
   "name": "python3"
  },
  "language_info": {
   "codemirror_mode": {
    "name": "ipython",
    "version": 3
   },
   "file_extension": ".py",
   "mimetype": "text/x-python",
   "name": "python",
   "nbconvert_exporter": "python",
   "pygments_lexer": "ipython3",
   "version": "3.9.7"
  }
 },
 "nbformat": 4,
 "nbformat_minor": 5
}
